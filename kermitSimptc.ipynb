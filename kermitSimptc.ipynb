{
 "cells": [
  {
   "cell_type": "code",
   "execution_count": 23,
   "metadata": {
    "collapsed": true
   },
   "outputs": [
    {
     "name": "stdout",
     "output_type": "stream",
     "text": [
      "E:\\Tesi magistrale\\KermitSimptc\n"
     ]
    }
   ],
   "source": [
    "import time, pickle, ast, os\n",
    "from tqdm import tqdm\n",
    "import pandas as pd\n",
    "import numpy as np\n",
    "\n",
    "#script for reading/writing trees\n",
    "from scripts.script import readP, writeTree\n",
    "#script for build DTK\n",
    "from scripts.script import createDTK\n",
    "#script for parse sentences\n",
    "from scripts.script import parse\n",
    "\n",
    "from os import getcwd\n",
    "\n",
    "import logging\n",
    "\n",
    "logger = logging.getLogger(__name__)\n",
    "\n",
    "print(getcwd());"
   ]
  },
  {
   "cell_type": "code",
   "execution_count": 24,
   "outputs": [],
   "source": [
    "# Download agnews\n",
    "# !wget wget https://data.deepai.org/agnews.zip\n",
    "#\n",
    "# !unzip agnews.zip\n",
    "dataset_name= \"agnews\""
   ],
   "metadata": {
    "collapsed": false
   }
  },
  {
   "cell_type": "code",
   "execution_count": 25,
   "outputs": [],
   "source": [
    "tree = \"(S)\"\n",
    "treeException = createDTK(tree)"
   ],
   "metadata": {
    "collapsed": false
   }
  },
  {
   "cell_type": "code",
   "execution_count": 26,
   "outputs": [],
   "source": [
    "from simptc import configs\n",
    "def encode_sentence(prompted_text):\n",
    "    try:\n",
    "        tree = (parse(prompted_text))\n",
    "        treeDTK = createDTK(tree)\n",
    "    except Exception:\n",
    "        tree, treeDTK = \"(S)\", treeException\n",
    "    return treeDTK\n",
    "\n",
    "def load_label_names():\n",
    "    label_name_file = f\"./agnews/label_names.txt\"\n",
    "    labels = []\n",
    "    with open(label_name_file, \"r\") as f:\n",
    "        for line in f:\n",
    "            words = line.split(\"\\n\")[0].split(\",\")\n",
    "            labels.append(words)\n",
    "    return labels\n",
    "\n",
    "def encode_label_names(label_name_file, model_name):\n",
    "    print(\"encoding class anchor sentences...\")\n",
    "    embedding_dir = f'./agnews/kermit/embeddings'\n",
    "    if not os.path.exists(embedding_dir):\n",
    "        os.mkdir(embedding_dir)\n",
    "    simcse = False\n",
    "    labels = []\n",
    "    with open(label_name_file, \"r\") as f:\n",
    "        for line in f:\n",
    "            words = line.split(\"\\n\")[0].split(\",\")\n",
    "            labels.append(words)\n",
    "\n",
    "    template_number = len(configs.TEMPLATES[\"agnews\"])\n",
    "    for template_id in range(template_number):\n",
    "        model_name_with_prefix = model_name\n",
    "        label_names_name = label_name_file.split('/')[-1][12:-4]   # extract label names name\n",
    "        prompt_path = os.path.join(embedding_dir, f\"prompt_{template_id}_{label_names_name}_{model_name_with_prefix}.npz\")\n",
    "        template = configs.TEMPLATES[\"agnews\"][template_id]\n",
    "        # create prompt embeddings:\n",
    "        if not os.path.exists(prompt_path):\n",
    "            print(f\"generating prompt embeddings using {model_name} from {label_name_file}, template: {template}\")\n",
    "            print(f\"embedding path = {prompt_path}\")\n",
    "            label_list = []\n",
    "            prompt_embeddings = []\n",
    "            for label_id, label_words in enumerate(labels):\n",
    "                show_example = True\n",
    "                for label_word in label_words:\n",
    "                    prompted_text = template.replace(\"<mask>\", label_word)\n",
    "                    if show_example:\n",
    "                        show_example = False\n",
    "                        print(f\"prompt exampe: {prompted_text}\")\n",
    "                    prompt_embeddings.append(encode_sentence(prompted_text))\n",
    "                    label_list.append(label_id)\n",
    "            prompt_embeddings = np.array(prompt_embeddings)\n",
    "            label_list = np.array(label_list)\n",
    "            print(f\"embedding shape: {prompt_embeddings.shape}\")\n",
    "            np.savez(prompt_path, embedding_list=prompt_embeddings, label_list=label_list)\n",
    "        else:\n",
    "            print(f\"prompt embeddings already exists at {prompt_path}\")\n",
    "\n"
   ],
   "metadata": {
    "collapsed": false
   }
  },
  {
   "cell_type": "code",
   "execution_count": 27,
   "outputs": [],
   "source": [
    "def load_and_encode_agnews(data_path):\n",
    "    label_list = []\n",
    "    embedding_list = []\n",
    "    with open(data_path, encoding=\"utf-8\") as csv_file:\n",
    "        split = pd.read_csv(data_path).sample(100)\n",
    "        for row in tqdm(split.itertuples()):\n",
    "            label, title, description = row._1, row.Title, row.Description\n",
    "            label = int(label) - 1\n",
    "            text = \" \".join((title, description))\n",
    "            label_list.append(label)\n",
    "            sent_embedding = encode_sentence(text)\n",
    "            embedding_list.append(sent_embedding)\n",
    "    return embedding_list, label_list\n",
    "\n",
    "\n",
    "def encode_and_save_sentences(model_name, split):\n",
    "    logger.info(\"encoding train and test set...\")\n",
    "    # label_path = os.path.join(f\"./datasets/TextClassification/{dataset}\", f\"{split}_labels.{suffix}\")\n",
    "    embedding_dir = os.path.join(f\"./agnews/kermit/\", \"embeddings\")\n",
    "\n",
    "    if not os.path.exists(embedding_dir):\n",
    "        os.mkdir(embedding_dir)\n",
    "    path = os.path.join(embedding_dir, f\"{split}_{model_name}.npz\")\n",
    "\n",
    "    # create testing embeddings:\n",
    "    embedding_path = path\n",
    "    # data_path = os.path.join(f\"./datasets/TextClassification/{dataset}\", f\"{split}.{suffix}\")\n",
    "    if not os.path.exists(embedding_path):\n",
    "        logger.info(f\"generating train/test embeddings using {model_name} from kermit\")\n",
    "        embedding_list, label_list = load_and_encode_agnews(f\"agnews/{split}.csv\")\n",
    "        label_list = np.array(label_list)\n",
    "        embedding_list = np.array(embedding_list)\n",
    "        logger.info(f\"embedding size: {embedding_list.shape}, label shape: {label_list.shape}\")\n",
    "        logger.info(f\"embeddings saved at {embedding_path}\")\n",
    "        np.savez(embedding_path, embedding_list=embedding_list, label_list=label_list)\n",
    "    else:\n",
    "        logger.info(f\"embeddings already exists at {embedding_path}\")\n",
    "    return path\n"
   ],
   "metadata": {
    "collapsed": false
   }
  },
  {
   "cell_type": "code",
   "execution_count": 28,
   "outputs": [
    {
     "name": "stdout",
     "output_type": "stream",
     "text": [
      "encoding class anchor sentences...\n",
      "generating prompt embeddings using Kermit from ./agnews/label_names_conceptnet_1000.txt, template: The news is about <mask>.\n",
      "embedding path = ./agnews/kermit/embeddings\\prompt_0_conceptnet_1000_Kermit.npz\n",
      "prompt exampe: The news is about politicianess.\n",
      "prompt exampe: The news is about fine play.\n",
      "prompt exampe: The news is about high tech manufacturer.\n",
      "prompt exampe: The news is about technology transfer.\n",
      "embedding shape: (8, 4000)\n",
      "generating prompt embeddings using Kermit from ./agnews/label_names_conceptnet_1000.txt, template: The news is related to <mask>.\n",
      "embedding path = ./agnews/kermit/embeddings\\prompt_1_conceptnet_1000_Kermit.npz\n",
      "prompt exampe: The news is related to politicianess.\n",
      "prompt exampe: The news is related to fine play.\n",
      "prompt exampe: The news is related to high tech manufacturer.\n",
      "prompt exampe: The news is related to technology transfer.\n",
      "embedding shape: (8, 4000)\n",
      "generating prompt embeddings using Kermit from ./agnews/label_names_conceptnet_1000.txt, template: <mask> is the topic of the news.\n",
      "embedding path = ./agnews/kermit/embeddings\\prompt_2_conceptnet_1000_Kermit.npz\n",
      "prompt exampe: politicianess is the topic of the news.\n",
      "prompt exampe: fine play is the topic of the news.\n",
      "prompt exampe: high tech manufacturer is the topic of the news.\n",
      "prompt exampe: technology transfer is the topic of the news.\n",
      "embedding shape: (8, 4000)\n",
      "generating prompt embeddings using Kermit from ./agnews/label_names_conceptnet_1000.txt, template: This week's news is about <mask>.\n",
      "embedding path = ./agnews/kermit/embeddings\\prompt_3_conceptnet_1000_Kermit.npz\n",
      "prompt exampe: This week's news is about politicianess.\n",
      "prompt exampe: This week's news is about fine play.\n",
      "prompt exampe: This week's news is about high tech manufacturer.\n",
      "prompt exampe: This week's news is about technology transfer.\n",
      "embedding shape: (8, 4000)\n",
      "generating prompt embeddings using Kermit from ./agnews/label_names_conceptnet_1000.txt, template: <mask>\n",
      "embedding path = ./agnews/kermit/embeddings\\prompt_4_conceptnet_1000_Kermit.npz\n",
      "prompt exampe: politicianess\n",
      "prompt exampe: fine play\n",
      "prompt exampe: high tech manufacturer\n",
      "prompt exampe: technology transfer\n",
      "embedding shape: (8, 4000)\n"
     ]
    }
   ],
   "source": [
    "encode_label_names(\"./agnews/label_names_conceptnet_1000.txt\", \"Kermit\")"
   ],
   "metadata": {
    "collapsed": false
   }
  },
  {
   "cell_type": "markdown",
   "source": [],
   "metadata": {
    "collapsed": false
   }
  },
  {
   "cell_type": "code",
   "execution_count": 29,
   "outputs": [
    {
     "name": "stderr",
     "output_type": "stream",
     "text": [
      "100it [00:37,  2.67it/s]\n"
     ]
    },
    {
     "data": {
      "text/plain": "'./agnews/kermit/embeddings\\\\train_Kermit.npz'"
     },
     "execution_count": 29,
     "metadata": {},
     "output_type": "execute_result"
    }
   ],
   "source": [
    "encode_and_save_sentences(\"Kermit\", \"train\")"
   ],
   "metadata": {
    "collapsed": false
   }
  },
  {
   "cell_type": "code",
   "execution_count": 30,
   "outputs": [
    {
     "name": "stderr",
     "output_type": "stream",
     "text": [
      "100it [00:34,  2.91it/s]\n"
     ]
    },
    {
     "data": {
      "text/plain": "'./agnews/kermit/embeddings\\\\test_Kermit.npz'"
     },
     "execution_count": 30,
     "metadata": {},
     "output_type": "execute_result"
    }
   ],
   "source": [
    "encode_and_save_sentences(\"Kermit\", \"test\")"
   ],
   "metadata": {
    "collapsed": false
   }
  }
 ],
 "metadata": {
  "kernelspec": {
   "display_name": "Python 3",
   "language": "python",
   "name": "python3"
  },
  "language_info": {
   "codemirror_mode": {
    "name": "ipython",
    "version": 2
   },
   "file_extension": ".py",
   "mimetype": "text/x-python",
   "name": "python",
   "nbconvert_exporter": "python",
   "pygments_lexer": "ipython2",
   "version": "2.7.6"
  }
 },
 "nbformat": 4,
 "nbformat_minor": 0
}
